{
 "cells": [
  {
   "cell_type": "markdown",
   "metadata": {},
   "source": [
    "gpt-3.5-turbo-0125\n",
    "\n",
    "gpt-4-0125-preview"
   ]
  },
  {
   "cell_type": "code",
   "execution_count": 2,
   "metadata": {},
   "outputs": [],
   "source": [
    "import dotenv\n",
    "dotenv.load_dotenv()\n",
    "\n",
    "import os,sys\n",
    "import asyncio\n",
    "from openai import OpenAI\n",
    "\n",
    "\n",
    "class Chatbot:\n",
    "    def __init__(self) -> None:\n",
    "        self._chat_id_generator = 0\n",
    "        self._historys = {}\n",
    "        self._openai = OpenAI()\n",
    " \n",
    "    def CreateChatID(self):\n",
    "        self._chat_id_generator += 1\n",
    "        return self._chat_id_generator\n",
    "\n",
    "    def GetHistoryMessages(self, chatid):\n",
    "        return self._historys.get(chatid, [])\n",
    "    \n",
    "    def EditHistoryMessagesContent(self, chatid, idx, new_content):\n",
    "        try:\n",
    "            self._historys[chatid][idx][\"content\"] = new_content\n",
    "        except Exception as e:\n",
    "            print(\"EditHistoryMessagesContent Error:\", e)\n",
    "    \n",
    "    def DelHistoryMessages(self, chatid, idx):\n",
    "        try:\n",
    "            self._historys[chatid].pop(idx)\n",
    "        except Exception as e:\n",
    "            print(\"DelHistoryMessages Error:\", e)\n",
    "\n",
    "    def Chat(self, message, chatid=None, **kwargs):\n",
    "        history_messages = self._historys.setdefault(chatid, []) if chatid else None\n",
    "        completion = self.GetCompletion(message, history_messages=history_messages, **kwargs)\n",
    "        msg = completion.choices[0].message\n",
    "        if chatid:\n",
    "            history_messages.append({\"role\": \"user\", \"content\": message})\n",
    "            history_messages.append({\"role\": msg.role, \"content\": msg.content})\n",
    "        return msg.content\n",
    "\n",
    "    def GetCompletion(\n",
    "            self,\n",
    "            prompt,\n",
    "            model=\"gpt-3.5-turbo-0125\",\n",
    "            system_prompt=\"You are ChatGPT, a large language model trained by OpenAI.\",\n",
    "            history_messages: list | None = None,\n",
    "            **kwargs):\n",
    "        messages = [{\"role\": \"system\", \"content\": system_prompt}]\n",
    "        if history_messages and len(history_messages) > 0:\n",
    "            messages += history_messages\n",
    "        messages.append({\"role\": \"user\", \"content\": prompt})\n",
    "\n",
    "        return self._openai.chat.completions.create(\n",
    "            model=model,\n",
    "            messages=messages,\n",
    "            **kwargs\n",
    "        )\n"
   ]
  },
  {
   "cell_type": "code",
   "execution_count": 3,
   "metadata": {},
   "outputs": [
    {
     "name": "stdout",
     "output_type": "stream",
     "text": [
      "ChatCompletionMessage(content='In the realm where code dances in a loop,\\nThere lies a concept that makes minds swoop.\\nRecursion, a magical trick up its sleeve,\\nA recursive function, oh, what it achieves!\\n\\nLike a mirror reflecting its own reflection,\\nThe function calls itself, a recursive connection.\\nDividing the problem, conquering it step by step,\\nUntil the base case rings, a graceful prep.\\n\\nA fractal of logic, blossoming in code,\\nInto the depths of recursion, we boldly rode.\\nEach call a saga, a tale to unfold,\\nIn this recursive world, stories are told.\\n\\nThrough layers of function calls, we go deeper,\\nA digital maze, a mind-bending creeper.\\nInfinite possibilities, branching paths unfold,\\nIn the realm of recursion, wonders untold.\\n\\nSo embrace the beauty of recursion divine,\\nIn the poetry of code, let its brilliance shine.\\nA loop within a loop, a mystical lore,\\nRecursion in programming, forevermore.', role='assistant', function_call=None, tool_calls=None)\n"
     ]
    }
   ],
   "source": [
    "from openai import OpenAI\n",
    "client = OpenAI()\n",
    "\n",
    "completion = client.chat.completions.create(\n",
    "  model=\"gpt-3.5-turbo\",\n",
    "  messages=[\n",
    "    {\"role\": \"system\", \"content\": \"You are a poetic assistant, skilled in explaining complex programming concepts with creative flair.\"},\n",
    "    {\"role\": \"user\", \"content\": \"Compose a poem that explains the concept of recursion in programming.\"}\n",
    "  ]\n",
    ")\n",
    "\n",
    "print(completion.choices[0].message.content)\n",
    "print(completion.choices[0].message.role)"
   ]
  },
  {
   "cell_type": "code",
   "execution_count": 4,
   "metadata": {},
   "outputs": [],
   "source": [
    "chatbot = Chatbot()\n",
    "system_prompt = \"You are ChatGPT, a large language model trained by OpenAI. Now you will play the role of a translator, translate the provided text and return it in JSON format, including the following fields: t[translated text], dsl[original language code].\"\n",
    "system_detect_prompt = \"You are ChatGPT, a large language model trained by OpenAI. Now you will play the role of a language detector, detect the language of the provided text and return it in JSON format, including the following fields: dsl[detected language code].\""
   ]
  },
  {
   "cell_type": "code",
   "execution_count": 10,
   "metadata": {},
   "outputs": [
    {
     "data": {
      "text/plain": [
       "'{\\n    \"t\": \"List the languages you can translate into, reply in JSON format and include the following fields: name <language name displayed in Chinese>, code <language code>\",\\n    \"dsl\": \"zh\"\\n}'"
      ]
     },
     "execution_count": 10,
     "metadata": {},
     "output_type": "execute_result"
    }
   ],
   "source": [
    "chatbot.Chat(\"Translate this text to EN: '列出你能翻译的语种，以json格式回复，包含以下字段： name<以中文显示的语言名称>，code<语言代码>'\", system_prompt=system_prompt)"
   ]
  },
  {
   "cell_type": "code",
   "execution_count": 3,
   "metadata": {},
   "outputs": [
    {
     "data": {
      "text/plain": [
       "'{\\n  \"t\": \"Translate the text separated by three backticks into English\",\\n  \"dsl\": \"zh\"\\n}'"
      ]
     },
     "execution_count": 3,
     "metadata": {},
     "output_type": "execute_result"
    }
   ],
   "source": [
    "chatbot.Chat(\"Translate the text separated by triple backticks into EN: ```翻译通过3个反引号分割的文本成英文```\", system_prompt=system_prompt)"
   ]
  },
  {
   "cell_type": "code",
   "execution_count": 5,
   "metadata": {},
   "outputs": [
    {
     "name": "stdout",
     "output_type": "stream",
     "text": [
      "As of my last knowledge update in April 2023, ChatGPT, based on GPT-3, doesn't inherently specialize in translation like dedicated translation models or services (e.g., Google Translate or DeepL). However, GPT-3 has been trained on diverse internet text, so it has exposure to many languages and can perform translations across various language pairs to some extent.\n",
      "\n",
      "I cannot provide a definitive list of all languages ChatGPT can translate since its capabilities depend on the breadth and quality of the training data, which encompasses a wide but not exhaustive range of languages. That said, I can list some commonly supported languages based on general global usage and internet presence, which GPT-3 is likely to handle with varying levels of proficiency. Note that this list is not exhaustive, and the quality of translation can vary significantly from one language to another.\n",
      "\n",
      "```json\n",
      "[\n",
      "    {\"name\": \"英文\", \"code\": \"en\"},\n",
      "    {\"name\": \"中文\", \"code\": \"zh\"},\n",
      "    {\"name\": \"西班牙文\", \"code\": \"es\"},\n",
      "    {\"name\": \"法文\", \"code\": \"fr\"},\n",
      "    {\"name\": \"德文\", \"code\": \"de\"},\n",
      "    {\"name\": \"俄文\", \"code\": \"ru\"},\n",
      "    {\"name\": \"葡萄牙文\", \"code\": \"pt\"},\n",
      "    {\"name\": \"阿拉伯文\", \"code\": \"ar\"},\n",
      "    {\"name\": \"印度文\", \"code\": \"hi\"},\n",
      "    {\"name\": \"日文\", \"code\": \"ja\"},\n",
      "    {\"name\": \"韩文\", \"code\": \"ko\"},\n",
      "    {\"name\": \"意大利文\", \"code\": \"it\"},\n",
      "    {\"name\": \"荷兰文\", \"code\": \"nl\"},\n",
      "    {\"name\": \"土耳其文\", \"code\": \"tr\"},\n",
      "    {\"name\": \"瑞典文\", \"code\": \"sv\"},\n",
      "    {\"name\": \"波兰文\", \"code\": \"pl\"},\n",
      "    {\"name\": \"丹麦文\", \"code\": \"da\"},\n",
      "    {\"name\": \"芬兰文\", \"code\": \"fi\"},\n",
      "    {\"name\": \"捷克文\", \"code\": \"cs\"},\n",
      "    {\"name\": \"罗马尼亚文\", \"code\": \"ro\"},\n",
      "    {\"name\": \"挪威文\", \"code\": \"no\"},\n",
      "    {\"name\": \"匈牙利文\", \"code\": \"hu\"},\n",
      "    {\"name\": \"希腊文\", \"code\": \"el\"},\n",
      "    {\"name\": \"保加利亚文\", \"code\": \"bg\"},\n",
      "    {\"name\": \"泰文\", \"code\": \"th\"},\n",
      "    {\"name\": \"越南文\", \"code\": \"vi\"},\n",
      "    {\"name\": \"印尼文\", \"code\": \"id\"},\n",
      "    {\"name\": \"希伯来文\", \"code\": \"he\"},\n",
      "    {\"name\": \"乌克兰文\", \"code\": \"uk\"},\n",
      "    {\"name\": \"斯洛伐克文\", \"code\": \"sk\"},\n",
      "    {\"name\": \"立陶宛文\", \"code\": \"lt\"},\n",
      "    {\"name\": \"拉脱维亚文\", \"code\": \"lv\"},\n",
      "    {\"name\": \"爱沙尼亚文\", \"code\": \"et\"}\n",
      "]\n",
      "```\n",
      "\n",
      "This JSON structure provides a sample list of languages and their corresponding language codes that ChatGPT may handle translations for. Please note that the display names are in Simplified Chinese ('zh') as requested, and the efficacy in translating to or from these languages can greatly vary. For accurate and specialized translations, especially for less commonly used languages or for texts that require a deep understanding of cultural nuances, professional translation services or dedicated translation software might be more appropriate.\n"
     ]
    }
   ],
   "source": [
    "res = chatbot.Chat(\"List all the languages that ChatGPT can translate. Return the list in JSON format following the fields: name<display name in language code 'zh'>, code<language code>.\", model=\"gpt-4-0125-preview\")\n",
    "print(res)"
   ]
  }
 ],
 "metadata": {
  "kernelspec": {
   "display_name": ".venv",
   "language": "python",
   "name": "python3"
  },
  "language_info": {
   "codemirror_mode": {
    "name": "ipython",
    "version": 3
   },
   "file_extension": ".py",
   "mimetype": "text/x-python",
   "name": "python",
   "nbconvert_exporter": "python",
   "pygments_lexer": "ipython3",
   "version": "3.10.13"
  }
 },
 "nbformat": 4,
 "nbformat_minor": 2
}
